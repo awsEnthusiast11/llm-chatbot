{
 "cells": [
  {
   "cell_type": "code",
   "execution_count": 27,
   "id": "ab12a385-5463-48f9-85d9-9cbcc2eca551",
   "metadata": {},
   "outputs": [],
   "source": [
    "from transformers import GPT2Tokenizer, GPT2LMHeadModel\n",
    "import torch\n",
    "\n",
    "device = \"cuda:0\" if torch.cuda.is_available() else \"cpu\"\n",
    "\n",
    "local_model_path = \"./local_model\""
   ]
  },
  {
   "cell_type": "code",
   "execution_count": 56,
   "id": "1b83c2c0-872e-416d-8bda-acd71fe36ea8",
   "metadata": {},
   "outputs": [],
   "source": [
    "tokenizer = GPT2Tokenizer.from_pretrained(\"ComCom/gpt2-small\")\n",
    "model = GPT2LMHeadModel.from_pretrained(\"ComCom/gpt2-small\",ignore_mismatched_sizes=True).to(device)"
   ]
  },
  {
   "cell_type": "code",
   "execution_count": 57,
   "id": "b0bc8388-394b-47ce-80fa-6effd014d03b",
   "metadata": {},
   "outputs": [],
   "source": [
    "text = 'tell me how to install ubuntu'"
   ]
  },
  {
   "cell_type": "code",
   "execution_count": 64,
   "id": "124b637f-df68-4d82-af05-44227916fdb6",
   "metadata": {},
   "outputs": [
    {
     "data": {
      "text/plain": [
       "tensor([33331,   502,   703,   284,  2721, 20967, 11157,   319,   616, 13224,\n",
       "           13,   198,   198, 24032, 15409,    12,  1136,  2721, 20967, 11157,\n",
       "          198,   198, 24032, 15409,    12,  1136,  2721, 20967, 11157,    12,\n",
       "        15388,   198,   198, 24032, 15409,    12,  1136,  2721, 20967, 11157,\n",
       "           12, 15388,    12,    87,  4521,    62,  2414,   198,   198, 24032,\n",
       "        15409,    12,  1136,  2721, 20967, 11157,    12, 15388,    12,    87,\n",
       "         4521,    62,  2414,    12,    87,  4521,    62,  2414,    12,    87,\n",
       "         4521,    62,  2414,    12,    87,  4521,    62,  2414,    12,    87,\n",
       "         4521,    62,  2414,    12,    87,  4521,    62,  2414,    12,    87,\n",
       "         4521,    62,  2414,    12,    87,  4521,    62,  2414,    12,    87,\n",
       "         4521,    62,  2414,    12,    87,  4521,    62], device='cuda:0')"
      ]
     },
     "execution_count": 64,
     "metadata": {},
     "output_type": "execute_result"
    }
   ],
   "source": [
    "output[0]"
   ]
  },
  {
   "cell_type": "code",
   "execution_count": 58,
   "id": "220cb676-44d5-4bf0-89f5-794ee758ad36",
   "metadata": {},
   "outputs": [
    {
     "name": "stderr",
     "output_type": "stream",
     "text": [
      "The attention mask and the pad token id were not set. As a consequence, you may observe unexpected behavior. Please pass your input's `attention_mask` to obtain reliable results.\n",
      "Setting `pad_token_id` to `eos_token_id`:50256 for open-end generation.\n"
     ]
    }
   ],
   "source": [
    "input_ids = tokenizer.encode(text, return_tensors=\"pt\").cuda()\n",
    "output = model.generate(\n",
    "    input_ids,\n",
    "    temperature=0.9,\n",
    "    max_new_tokens=100\n",
    ")"
   ]
  },
  {
   "cell_type": "code",
   "execution_count": 65,
   "id": "92223340-d4ae-4f89-aee0-48c45af117f7",
   "metadata": {},
   "outputs": [],
   "source": [
    "res = []\n",
    "for i, sample_output in enumerate(output):\n",
    "    res.append(tokenizer.decode(sample_output))"
   ]
  },
  {
   "cell_type": "code",
   "execution_count": 66,
   "id": "1992674f-ee37-478a-8923-5fda65ab8abc",
   "metadata": {},
   "outputs": [
    {
     "name": "stdout",
     "output_type": "stream",
     "text": [
      "['tell me how to install ubuntu on my laptop.\\n\\nsudo apt-get install ubuntu\\n\\nsudo apt-get install ubuntu-server\\n\\nsudo apt-get install ubuntu-server-x86_64\\n\\nsudo apt-get install ubuntu-server-x86_64-x86_64-x86_64-x86_64-x86_64-x86_64-x86_64-x86_64-x86_64-x86_']\n"
     ]
    }
   ],
   "source": [
    "res[0]"
   ]
  },
  {
   "cell_type": "code",
   "execution_count": 61,
   "id": "c50c08e9-499d-4907-8518-76a4265ff6c6",
   "metadata": {},
   "outputs": [],
   "source": [
    "    res_split = res[0].split(\"\\n\")\n"
   ]
  },
  {
   "cell_type": "code",
   "execution_count": 62,
   "id": "871457ae-77c3-42d1-8bb2-0505da23e35c",
   "metadata": {},
   "outputs": [
    {
     "data": {
      "text/plain": [
       "['tell me how to install ubuntu on my laptop.',\n",
       " '',\n",
       " 'sudo apt-get install ubuntu',\n",
       " '',\n",
       " 'sudo apt-get install ubuntu-server',\n",
       " '',\n",
       " 'sudo apt-get install ubuntu-server-x86_64',\n",
       " '',\n",
       " 'sudo apt-get install ubuntu-server-x86_64-x86_64-x86_64-x86_64-x86_64-x86_64-x86_64-x86_64-x86_64-x86_']"
      ]
     },
     "execution_count": 62,
     "metadata": {},
     "output_type": "execute_result"
    }
   ],
   "source": [
    "res_split"
   ]
  },
  {
   "cell_type": "code",
   "execution_count": 14,
   "id": "047c1f0a-1541-416d-a7f7-37cf22034517",
   "metadata": {},
   "outputs": [
    {
     "name": "stdout",
     "output_type": "stream",
     "text": [
      "hello how are you doing? I'm trying to install the latest version of ubuntu, but I'm getting the following error:                                                                \n"
     ]
    }
   ],
   "source": [
    "print(\"\".join(res[0].split(\"\\n<davmor2>\")))"
   ]
  },
  {
   "cell_type": "code",
   "execution_count": 15,
   "id": "fb98229e-1eb9-4ee1-8f18-5be6e6746f09",
   "metadata": {},
   "outputs": [],
   "source": [
    "res = tokenizer.decode(output[0], skip_special_tokens=True)\n",
    "res = res[0].split(\"\\n<davmor2>\")"
   ]
  },
  {
   "cell_type": "code",
   "execution_count": 16,
   "id": "8f0a2190-f87f-41d6-a376-2e93256d2629",
   "metadata": {},
   "outputs": [
    {
     "data": {
      "text/plain": [
       "['h']"
      ]
     },
     "execution_count": 16,
     "metadata": {},
     "output_type": "execute_result"
    }
   ],
   "source": [
    "res"
   ]
  },
  {
   "cell_type": "code",
   "execution_count": null,
   "id": "ad88b970-b349-40c8-8a18-721703bfdcb0",
   "metadata": {},
   "outputs": [],
   "source": []
  }
 ],
 "metadata": {
  "kernelspec": {
   "display_name": "Python 3 (ipykernel)",
   "language": "python",
   "name": "python3"
  },
  "language_info": {
   "codemirror_mode": {
    "name": "ipython",
    "version": 3
   },
   "file_extension": ".py",
   "mimetype": "text/x-python",
   "name": "python",
   "nbconvert_exporter": "python",
   "pygments_lexer": "ipython3",
   "version": "3.8.0"
  }
 },
 "nbformat": 4,
 "nbformat_minor": 5
}
